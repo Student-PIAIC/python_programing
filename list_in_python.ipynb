{
  "cells": [
    {
      "cell_type": "markdown",
      "metadata": {
        "id": "view-in-github",
        "colab_type": "text"
      },
      "source": [
        "<a href=\"https://colab.research.google.com/github/Student-PIAIC/python_programing/blob/main/list_in_python.ipynb\" target=\"_parent\"><img src=\"https://colab.research.google.com/assets/colab-badge.svg\" alt=\"Open In Colab\"/></a>"
      ]
    },
    {
      "cell_type": "code",
      "execution_count": null,
      "metadata": {
        "colab": {
          "base_uri": "https://localhost:8080/"
        },
        "id": "qwvdLX2_VB1A",
        "outputId": "6ee0640a-00ab-4aee-f9f1-3e241769aee9"
      },
      "outputs": [
        {
          "name": "stdout",
          "output_type": "stream",
          "text": [
            "['white', 'black', 'yellow', 'pink']\n"
          ]
        }
      ],
      "source": [
        "colors:list[str]=[\"white\", \"black\", \"yellow\", \"pink\"]\n",
        "print(colors)"
      ]
    },
    {
      "cell_type": "code",
      "execution_count": null,
      "metadata": {
        "colab": {
          "base_uri": "https://localhost:8080/"
        },
        "id": "-QYum1sIVmZc",
        "outputId": "4a058d88-be01-40e4-9680-3a6387b9eb89"
      },
      "outputs": [
        {
          "name": "stdout",
          "output_type": "stream",
          "text": [
            "['white', 'black', 'yellow', 'pink', 'red']\n"
          ]
        }
      ],
      "source": [
        "colors.append(\"red\")\n",
        "print(colors)"
      ]
    },
    {
      "cell_type": "code",
      "execution_count": null,
      "metadata": {
        "colab": {
          "base_uri": "https://localhost:8080/"
        },
        "id": "a3yjrUhXXG0D",
        "outputId": "a9d67d57-ce2e-4551-806e-89845341def5"
      },
      "outputs": [
        {
          "name": "stdout",
          "output_type": "stream",
          "text": [
            "black\n"
          ]
        }
      ],
      "source": [
        "print(colors[1])"
      ]
    },
    {
      "cell_type": "code",
      "execution_count": null,
      "metadata": {
        "colab": {
          "base_uri": "https://localhost:8080/"
        },
        "id": "1-8ZysA0XTNh",
        "outputId": "07aa5580-3a17-4b48-acc6-bd8e8201e0fb"
      },
      "outputs": [
        {
          "name": "stdout",
          "output_type": "stream",
          "text": [
            "5\n"
          ]
        }
      ],
      "source": [
        "print(len(colors))"
      ]
    },
    {
      "cell_type": "code",
      "execution_count": null,
      "metadata": {
        "colab": {
          "base_uri": "https://localhost:8080/"
        },
        "id": "X2Ns_gl-YXW0",
        "outputId": "61bc01e3-c0f0-4c15-dc56-e4dd23d56f8b"
      },
      "outputs": [
        {
          "name": "stdout",
          "output_type": "stream",
          "text": [
            "['pink', 'red', 'gray', 'gray']\n"
          ]
        }
      ],
      "source": [
        "colors.append(\"gray\")\n",
        "print(colors)"
      ]
    },
    {
      "cell_type": "code",
      "execution_count": null,
      "metadata": {
        "colab": {
          "base_uri": "https://localhost:8080/"
        },
        "id": "Qe-D3viyZPvp",
        "outputId": "211c835f-cbb1-4cb8-de74-919796d12993"
      },
      "outputs": [
        {
          "name": "stdout",
          "output_type": "stream",
          "text": [
            "['pink', 'red', 'gray']\n"
          ]
        }
      ],
      "source": [
        "print(colors)"
      ]
    },
    {
      "cell_type": "code",
      "execution_count": null,
      "metadata": {
        "colab": {
          "background_save": true
        },
        "id": "qhFnUMGbaaV3",
        "outputId": "549bb131-288d-47ea-a66e-9b25bc58ae97"
      },
      "outputs": [
        {
          "name": "stdout",
          "output_type": "stream",
          "text": [
            "helloRao\n"
          ]
        }
      ],
      "source": [
        "def"
      ]
    }
  ],
  "metadata": {
    "colab": {
      "provenance": [],
      "authorship_tag": "ABX9TyNmBvrfPjPJzbXELrvwnqO9",
      "include_colab_link": true
    },
    "kernelspec": {
      "display_name": "Python 3",
      "name": "python3"
    },
    "language_info": {
      "name": "python"
    }
  },
  "nbformat": 4,
  "nbformat_minor": 0
}