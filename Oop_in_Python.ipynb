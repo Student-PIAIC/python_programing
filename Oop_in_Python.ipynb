{
  "nbformat": 4,
  "nbformat_minor": 0,
  "metadata": {
    "colab": {
      "provenance": [],
      "toc_visible": true,
      "authorship_tag": "ABX9TyPYr9rl0s7/ov2IwSpO6CbA",
      "include_colab_link": true
    },
    "kernelspec": {
      "name": "python3",
      "display_name": "Python 3"
    },
    "language_info": {
      "name": "python"
    }
  },
  "cells": [
    {
      "cell_type": "markdown",
      "metadata": {
        "id": "view-in-github",
        "colab_type": "text"
      },
      "source": [
        "<a href=\"https://colab.research.google.com/github/Student-PIAIC/python_programing/blob/main/Oop_in_Python.ipynb\" target=\"_parent\"><img src=\"https://colab.research.google.com/assets/colab-badge.svg\" alt=\"Open In Colab\"/></a>"
      ]
    },
    {
      "cell_type": "code",
      "source": [
        "# this is a class\n",
        "class House:\n",
        "  address:str\n",
        "  number_of_doors:int\n",
        "  number_of_rooms:int = 4\n",
        "  number_of_windows:int = 10\n",
        "  def __init__(self, address:str, number_of_doors:int):\n",
        "    self.address = address\n",
        "    self.number_of_doors = number_of_doors\n",
        "  def ring_bell(self):\n",
        "    print(self.address)\n",
        "    print(\"ding ding ding\")\n",
        "# this is an object\n",
        "my_house = House(\"house_no 333\", 44)\n",
        "print(f\"My House Address {my_house.address} and number of doors are {my_house.number_of_doors}\")\n",
        "my_house.ring_bell()\n",
        "\n",
        "my_house_1 = House(\"house_no 001\", 7)\n",
        "print(f\"My House Address {my_house_1.address}\")\n",
        "print(my_house.address)\n",
        "print(my_house.number_of_doors)\n",
        "print(my_house.number_of_rooms)\n",
        "print(my_house.number_of_windows)\n",
        "print(my_house_1.address)\n",
        "print(my_house_1.number_of_doors)\n",
        "print(my_house_1.number_of_rooms)\n",
        "print(my_house_1.number_of_windows)\n"
      ],
      "metadata": {
        "colab": {
          "base_uri": "https://localhost:8080/"
        },
        "id": "aJ_IXU4Q2TzO",
        "outputId": "469ab3c8-69c1-40be-a265-fad963168e05"
      },
      "execution_count": 1,
      "outputs": [
        {
          "output_type": "stream",
          "name": "stdout",
          "text": [
            "My House Address house_no 333 and number of doors are 44\n",
            "house_no 333\n",
            "ding ding ding\n",
            "My House Address house_no 001\n",
            "house_no 333\n",
            "44\n",
            "4\n",
            "10\n",
            "house_no 001\n",
            "7\n",
            "4\n",
            "10\n"
          ]
        }
      ]
    },
    {
      "cell_type": "code",
      "execution_count": 1,
      "metadata": {
        "id": "I5Y6onJ12LN0",
        "colab": {
          "base_uri": "https://localhost:8080/"
        },
        "outputId": "dd78a69c-ac8f-4148-961d-cb586d529f69"
      },
      "outputs": [
        {
          "output_type": "stream",
          "name": "stdout",
          "text": [
            "input your weight:44\n",
            "16.63\n"
          ]
        }
      ],
      "source": [
        "def mars_weight():\n",
        "  user_input = float(input(\"input your weight:\"))\n",
        "  mars_weight: float = user_input * 0.378\n",
        "  rounded_weight: float = round(mars_weight, 2 )\n",
        "  print(rounded_weight)\n",
        "mars_weight()"
      ]
    },
    {
      "cell_type": "code",
      "source": [
        "def mars_weight():\n",
        "  user_input = float(input(\"input your weight:\"))\n",
        "  mars_weight:float = user_input * 0.378\n",
        "  rounded_weight = round(mars_weight, 2)\n",
        "print(mars_weight)\n",
        "\n"
      ],
      "metadata": {
        "colab": {
          "base_uri": "https://localhost:8080/"
        },
        "id": "ehsedrtTeMOR",
        "outputId": "346517da-9e88-4d4c-aa62-dd4fb32a0682"
      },
      "execution_count": 2,
      "outputs": [
        {
          "output_type": "stream",
          "name": "stdout",
          "text": [
            "<function mars_weight at 0x7f1ad9e6ff60>\n"
          ]
        }
      ]
    },
    {
      "cell_type": "code",
      "source": [
        "planetry_weight_percent = {\n",
        "    \"Mercury\":37.6,\n",
        "    \"Venus\":88.9,\n",
        "    \"Earth\":100,\n",
        "    \"Mars\":37.8,\n",
        "    \"Jupiter\":236.0,\n",
        "    \"Uranus\":81.5,\n",
        "    \"Neptune\":114.0,\n",
        "    \"Pluto\":0.62\n",
        "}\n",
        "def planetry_weight():\n",
        "  earth_weight = int(input(\"input your weight:\"))\n",
        "  planet_of_choice = str(input(\"Enter the name of planet you are going to visit: \"))\n",
        "  if planet_of_choice in planetry_weight_percent:\n",
        "    planetry_weight = earth_weight * planetry_weight_percent[planet_of_choice] /100\n",
        "    rounded_weight = round(planetry_weight, 2)\n",
        "    print(f\"your weight on {planet_of_choice} is {rounded_weight}\")\n",
        "  else:\n",
        "    print(\"Write a solar system value\")\n",
        "planetry_weight()\n"
      ],
      "metadata": {
        "colab": {
          "base_uri": "https://localhost:8080/"
        },
        "id": "rsLOmFFIpsLm",
        "outputId": "e4b7d068-89f1-4c30-d48f-da56deaa46bc"
      },
      "execution_count": 13,
      "outputs": [
        {
          "output_type": "stream",
          "name": "stdout",
          "text": [
            "input your weight:100\n",
            "Enter the name of planet you are going to visit: Venus\n",
            "your weight on Venus is 88.9\n"
          ]
        }
      ]
    }
  ]
}