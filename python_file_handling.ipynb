{
  "nbformat": 4,
  "nbformat_minor": 0,
  "metadata": {
    "colab": {
      "provenance": [],
      "authorship_tag": "ABX9TyPKFhRB2aBeAW5mMzKyGEbf",
      "include_colab_link": true
    },
    "kernelspec": {
      "name": "python3",
      "display_name": "Python 3"
    },
    "language_info": {
      "name": "python"
    }
  },
  "cells": [
    {
      "cell_type": "markdown",
      "metadata": {
        "id": "view-in-github",
        "colab_type": "text"
      },
      "source": [
        "<a href=\"https://colab.research.google.com/github/Student-PIAIC/python_programing/blob/main/python_file_handling.ipynb\" target=\"_parent\"><img src=\"https://colab.research.google.com/assets/colab-badge.svg\" alt=\"Open In Colab\"/></a>"
      ]
    },
    {
      "cell_type": "code",
      "execution_count": null,
      "metadata": {
        "id": "jND44pr8SUZc"
      },
      "outputs": [],
      "source": [
        "f = open(\"Rao.txt\", \"a\")\n",
        "f.write(\"\\nthis is from little things.\")\n",
        "f.close()\n"
      ]
    },
    {
      "cell_type": "markdown",
      "source": [],
      "metadata": {
        "id": "GkcX92pao0wj"
      }
    },
    {
      "cell_type": "markdown",
      "source": [],
      "metadata": {
        "id": "OhZ_VLXjo1Zc"
      }
    },
    {
      "cell_type": "code",
      "source": [
        "with open(\"practice.txt\", \"r\") as f:\n",
        "  data = f.read()\n",
        "new_data = data.replace(\"java\", \"python\")\n",
        "print(new_data)\n",
        "with open(\"practice.txt\", \"w\") as f:\n",
        "  f.write(new_data)\n",
        "\n"
      ],
      "metadata": {
        "colab": {
          "base_uri": "https://localhost:8080/"
        },
        "id": "F9gEW0jWEFzm",
        "outputId": "950f82a8-c476-4280-97a6-576267de69d0"
      },
      "execution_count": null,
      "outputs": [
        {
          "output_type": "stream",
          "name": "stdout",
          "text": [
            "Hi everyone we are learning file I/O\n",
            "using python\n",
            "i like programming in python\n"
          ]
        }
      ]
    },
    {
      "cell_type": "code",
      "source": [
        "word = \"man\"\n",
        "with open(\"practice.txt\", \"r\") as f:\n",
        "  data = f.read()\n",
        "  if(data.find(word) != -1):\n",
        "    print(\"found\")\n",
        "  else:\n",
        "     print(\"not found\")"
      ],
      "metadata": {
        "colab": {
          "base_uri": "https://localhost:8080/"
        },
        "id": "naUy9gg3IMha",
        "outputId": "0171c936-dd96-4529-ec14-0339ea5f7ac0"
      },
      "execution_count": null,
      "outputs": [
        {
          "output_type": "stream",
          "name": "stdout",
          "text": [
            "not found\n"
          ]
        }
      ]
    },
    {
      "cell_type": "code",
      "source": [
        "def find_word():\n",
        "  word = \"Hi\"\n",
        "  with open(\"practice.txt\", \"r\") as f:\n",
        "    data = f.read()\n",
        "  if(data.find(word) != -1):\n",
        "    print(\"found\")\n",
        "  else:\n",
        "     print(\"not found\")\n",
        "find_word()"
      ],
      "metadata": {
        "colab": {
          "base_uri": "https://localhost:8080/"
        },
        "id": "2eZnK1oQNJw4",
        "outputId": "543a8330-b305-4843-cc4a-ca3b94419ff2"
      },
      "execution_count": null,
      "outputs": [
        {
          "output_type": "stream",
          "name": "stdout",
          "text": [
            "found\n"
          ]
        }
      ]
    },
    {
      "cell_type": "code",
      "source": [
        "def check_for_line():\n",
        "  word = \"like\"\n",
        "  data = True\n",
        "  line_no = 1\n",
        "  with open(\"practice.txt\", \"r\") as f:\n",
        "    while data:\n",
        "      data = f.readline()\n",
        "      if word in data:\n",
        "        print(line_no)\n",
        "        return\n",
        "      line_no +=1\n",
        "  return -1\n",
        "check_for_line()"
      ],
      "metadata": {
        "colab": {
          "base_uri": "https://localhost:8080/"
        },
        "id": "5RXAc7tiRrcf",
        "outputId": "e1a28025-224d-4747-b493-15d1ad194f92"
      },
      "execution_count": null,
      "outputs": [
        {
          "output_type": "stream",
          "name": "stdout",
          "text": [
            "3\n"
          ]
        }
      ]
    },
    {
      "cell_type": "code",
      "source": [
        "# prompt: create a csv file with three columns, name number and address.\n",
        "\n",
        "import csv\n",
        "\n",
        "def create_csv(filename):\n",
        "    with open(filename, 'w', newline='') as csvfile:\n",
        "        fieldnames = ['name', 'number', 'address']\n",
        "        writer = csv.DictWriter(csvfile, fieldnames=fieldnames)\n",
        "\n",
        "        writer.writeheader()\n",
        "        writer.writerow({'name': 'Alice', 'number': '12345', 'address': '123 Main St'})\n",
        "        writer.writerow({'name': 'Bob', 'number': '67890', 'address': '456 Oak Ave'})\n",
        "        writer.writerow({'name': 'Charlie', 'number': '13579', 'address': '789 Pine Ln'})\n",
        "\n",
        "create_csv('my_file.csv')\n"
      ],
      "metadata": {
        "id": "eIKxuPNGpVkH"
      },
      "execution_count": null,
      "outputs": []
    },
    {
      "cell_type": "code",
      "source": [
        "# prompt: create an admit card for institute PIAIC , with fields, name, roll number and some other detail\n",
        "\n",
        "def create_admit_card(name, roll_number, center, date, time):\n",
        "    \"\"\"Creates an admit card as a string.\"\"\"\n",
        "\n",
        "    admit_card = f\"\"\"\n",
        "    ----------------------------------------\n",
        "    PIAIC Admit Card\n",
        "    ----------------------------------------\n",
        "    Name: {name}\n",
        "    Roll Number: {roll_number}\n",
        "    Center: {center}\n",
        "    Date: {date}\n",
        "    Time: {time}\n",
        "    ----------------------------------------\n",
        "    Instructions:\n",
        "    1. Please arrive at the center 30 minutes before the exam.\n",
        "    2. Bring a valid ID.\n",
        "    3. No electronic devices allowed.\n",
        "    ----------------------------------------\n",
        "    \"\"\"\n",
        "    return admit_card\n",
        "\n",
        "# Example usage\n",
        "name = \"Ali\" #@param {type:\"string\"}\n",
        "roll_number = 12345  #@param {type:\"number\"}\n",
        "center = \"XYZ Center\" #@param {type:\"string\"}\n",
        "date = \"2024-03-10\" #@param {type:\"date\"}\n",
        "time = \"09:00 AM\" #@param {type:\"string\"}\n",
        "\n",
        "\n",
        "admit_card_content = create_admit_card(name, roll_number, center, date, time)\n",
        "print(admit_card_content)\n",
        "\n",
        "# Save to a file (optional)\n",
        "with open(\"admit_card.txt\", \"w\") as f:\n",
        "    f.write(admit_card_content)\n"
      ],
      "metadata": {
        "id": "wU7DmfQyrg-Q"
      },
      "execution_count": null,
      "outputs": []
    },
    {
      "cell_type": "code",
      "source": [
        "user_input = int(input(\"enter a number: \"))\n",
        "print(type(user_input))\n",
        "user_input *\n",
        "while user_input<100:\n",
        "  user_input *= 2\n",
        "  print(user_input)\n"
      ],
      "metadata": {
        "colab": {
          "base_uri": "https://localhost:8080/"
        },
        "id": "u4dccwvixZqF",
        "outputId": "0dc8ddd8-3fe0-426f-9896-bc64d2669173"
      },
      "execution_count": null,
      "outputs": [
        {
          "output_type": "stream",
          "name": "stdout",
          "text": [
            "enter a number: 7\n",
            "<class 'int'>\n"
          ]
        }
      ]
    },
    {
      "cell_type": "code",
      "source": [
        "name = \"apple\"\n",
        "print(name[-3:-1])"
      ],
      "metadata": {
        "colab": {
          "base_uri": "https://localhost:8080/"
        },
        "id": "a5UBgzcdRi-r",
        "outputId": "b03c75e4-ea0a-4132-8e92-601e01f2adc1"
      },
      "execution_count": null,
      "outputs": [
        {
          "output_type": "stream",
          "name": "stdout",
          "text": [
            "pl\n"
          ]
        }
      ]
    }
  ]
}